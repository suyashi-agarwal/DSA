{
  "nbformat": 4,
  "nbformat_minor": 0,
  "metadata": {
    "colab": {
      "provenance": [],
      "toc_visible": true,
      "authorship_tag": "ABX9TyOeaY1AxfqgQgzT9K/5Ln8A",
      "include_colab_link": true
    },
    "kernelspec": {
      "name": "python3",
      "display_name": "Python 3"
    },
    "language_info": {
      "name": "python"
    }
  },
  "cells": [
    {
      "cell_type": "markdown",
      "metadata": {
        "id": "view-in-github",
        "colab_type": "text"
      },
      "source": [
        "<a href=\"https://colab.research.google.com/github/suyashi-agarwal/DSA/blob/main/Arrays_%26_Strings.ipynb\" target=\"_parent\"><img src=\"https://colab.research.google.com/assets/colab-badge.svg\" alt=\"Open In Colab\"/></a>"
      ]
    },
    {
      "cell_type": "markdown",
      "source": [
        "Arrays\n"
      ],
      "metadata": {
        "id": "-BrWvW-S12Fh"
      }
    },
    {
      "cell_type": "code",
      "source": [
        "A = [1,2,3,4,5]"
      ],
      "metadata": {
        "id": "3yup9G4y18Dx"
      },
      "execution_count": null,
      "outputs": []
    },
    {
      "cell_type": "markdown",
      "source": [
        "Append\n"
      ],
      "metadata": {
        "id": "ikjGk0Bd1-ba"
      }
    },
    {
      "cell_type": "code",
      "source": [
        "len(A) # O(1)"
      ],
      "metadata": {
        "colab": {
          "base_uri": "https://localhost:8080/"
        },
        "id": "8NwFJRhg4VHj",
        "outputId": "20804c03-7384-405d-b03d-d0cecd2d1e03"
      },
      "execution_count": null,
      "outputs": [
        {
          "output_type": "execute_result",
          "data": {
            "text/plain": [
              "5"
            ]
          },
          "metadata": {},
          "execution_count": 24
        }
      ]
    },
    {
      "cell_type": "code",
      "source": [
        "A.append(6) #O(1)\n",
        "print(A)"
      ],
      "metadata": {
        "colab": {
          "base_uri": "https://localhost:8080/"
        },
        "id": "-nrCUK6T1_lr",
        "outputId": "a0930d89-4298-4833-ae0e-b49dd1694462"
      },
      "execution_count": null,
      "outputs": [
        {
          "output_type": "stream",
          "name": "stdout",
          "text": [
            "[1, 2, 3, 4, 5, 6]\n"
          ]
        }
      ]
    },
    {
      "cell_type": "markdown",
      "source": [
        "Pop\n"
      ],
      "metadata": {
        "id": "o4XmXxOn2qaw"
      }
    },
    {
      "cell_type": "code",
      "source": [
        "A.pop() #O(1)\n",
        "print(A)"
      ],
      "metadata": {
        "colab": {
          "base_uri": "https://localhost:8080/"
        },
        "id": "tyBcyu282sWu",
        "outputId": "927fc9cb-c123-4730-eb7a-bac633f9f653"
      },
      "execution_count": null,
      "outputs": [
        {
          "output_type": "stream",
          "name": "stdout",
          "text": [
            "[1, 2, 3, 4, 5]\n"
          ]
        }
      ]
    },
    {
      "cell_type": "markdown",
      "source": [
        "Insert"
      ],
      "metadata": {
        "id": "adLyvd7M23b3"
      }
    },
    {
      "cell_type": "code",
      "source": [
        "A.insert(2,5) #O(N)\n",
        "print(A)"
      ],
      "metadata": {
        "colab": {
          "base_uri": "https://localhost:8080/"
        },
        "id": "qeBVSQu624ew",
        "outputId": "b2b12f1d-461c-48c0-b345-94abef0427b4"
      },
      "execution_count": null,
      "outputs": [
        {
          "output_type": "stream",
          "name": "stdout",
          "text": [
            "[1, 2, 5, 3, 4, 5]\n"
          ]
        }
      ]
    },
    {
      "cell_type": "markdown",
      "source": [
        "Modify"
      ],
      "metadata": {
        "id": "bUikoTwF3ABH"
      }
    },
    {
      "cell_type": "code",
      "source": [
        "A[0] = 7 #O(1)\n",
        "print(A)"
      ],
      "metadata": {
        "colab": {
          "base_uri": "https://localhost:8080/"
        },
        "id": "LZQ5Rx2P3BNy",
        "outputId": "b5309f3b-1684-4190-e39a-87f038b2d7f0"
      },
      "execution_count": null,
      "outputs": [
        {
          "output_type": "stream",
          "name": "stdout",
          "text": [
            "[7, 2, 5, 3, 4, 5]\n"
          ]
        }
      ]
    },
    {
      "cell_type": "markdown",
      "source": [
        "Access"
      ],
      "metadata": {
        "id": "ACk7VwYW3G7a"
      }
    },
    {
      "cell_type": "code",
      "source": [
        "print(A[3]) #O(1)"
      ],
      "metadata": {
        "colab": {
          "base_uri": "https://localhost:8080/"
        },
        "id": "602Af9lQ3HtR",
        "outputId": "e6acac03-03af-4efd-ba0a-85c8c1b5477e"
      },
      "execution_count": null,
      "outputs": [
        {
          "output_type": "stream",
          "name": "stdout",
          "text": [
            "3\n"
          ]
        }
      ]
    },
    {
      "cell_type": "markdown",
      "source": [
        "Exists"
      ],
      "metadata": {
        "id": "7QflKUMO3Mia"
      }
    },
    {
      "cell_type": "code",
      "source": [
        "if 7 in A: #O(N)\n",
        "  print(True)"
      ],
      "metadata": {
        "colab": {
          "base_uri": "https://localhost:8080/"
        },
        "id": "4XDQaZtm3Nc6",
        "outputId": "a7c2a169-81ca-4ee4-e5b9-bcddf7f01fe9"
      },
      "execution_count": null,
      "outputs": [
        {
          "output_type": "stream",
          "name": "stdout",
          "text": [
            "True\n"
          ]
        }
      ]
    },
    {
      "cell_type": "markdown",
      "source": [
        "\n",
        "** STRINGS **\n"
      ],
      "metadata": {
        "id": "NTxyST3B3fE1"
      }
    },
    {
      "cell_type": "code",
      "source": [
        "string = \"hello\""
      ],
      "metadata": {
        "id": "qR174shk3tN6"
      },
      "execution_count": null,
      "outputs": []
    },
    {
      "cell_type": "markdown",
      "source": [
        "Append"
      ],
      "metadata": {
        "id": "bDODoOxv3rT4"
      }
    },
    {
      "cell_type": "code",
      "source": [
        "new_string = string + 'z'#O(N)\n",
        "print(new_string)"
      ],
      "metadata": {
        "colab": {
          "base_uri": "https://localhost:8080/"
        },
        "id": "t_M5gHoI3ihp",
        "outputId": "d23259e4-826c-4966-f7c5-2a1f6e39f9f8"
      },
      "execution_count": null,
      "outputs": [
        {
          "output_type": "stream",
          "name": "stdout",
          "text": [
            "helloz\n"
          ]
        }
      ]
    },
    {
      "cell_type": "markdown",
      "source": [
        "character exists"
      ],
      "metadata": {
        "id": "DRCnniJY4Exi"
      }
    },
    {
      "cell_type": "code",
      "source": [
        "if 'h' in string: #O(N)\n",
        "  print(True)"
      ],
      "metadata": {
        "colab": {
          "base_uri": "https://localhost:8080/"
        },
        "id": "Xs6HjjQ74Gz9",
        "outputId": "1071e1e7-e6f1-4d49-ad31-afcf1ead5403"
      },
      "execution_count": null,
      "outputs": [
        {
          "output_type": "stream",
          "name": "stdout",
          "text": [
            "True\n"
          ]
        }
      ]
    }
  ]
}
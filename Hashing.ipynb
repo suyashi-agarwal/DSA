{
  "nbformat": 4,
  "nbformat_minor": 0,
  "metadata": {
    "colab": {
      "provenance": [],
      "authorship_tag": "ABX9TyPKbIuI3nwm7gXLgzVm/u2O",
      "include_colab_link": true
    },
    "kernelspec": {
      "name": "python3",
      "display_name": "Python 3"
    },
    "language_info": {
      "name": "python"
    }
  },
  "cells": [
    {
      "cell_type": "markdown",
      "metadata": {
        "id": "view-in-github",
        "colab_type": "text"
      },
      "source": [
        "<a href=\"https://colab.research.google.com/github/suyashi-agarwal/DSA/blob/main/Hashing.ipynb\" target=\"_parent\"><img src=\"https://colab.research.google.com/assets/colab-badge.svg\" alt=\"Open In Colab\"/></a>"
      ]
    },
    {
      "cell_type": "code",
      "execution_count": 3,
      "metadata": {
        "id": "svKQZbN2Cn9U"
      },
      "outputs": [],
      "source": [
        "#Hashset\n",
        "s = set()"
      ]
    },
    {
      "cell_type": "code",
      "source": [
        "# ADD VALUES TO THE SET (keys)\n",
        "s.add(1)\n",
        "s.add(2)\n",
        "s.add(3)\n",
        "print(s)\n"
      ],
      "metadata": {
        "colab": {
          "base_uri": "https://localhost:8080/"
        },
        "id": "F3RNjqqeC98T",
        "outputId": "38dd3b95-4501-4a5f-ee58-88c199739635"
      },
      "execution_count": 4,
      "outputs": [
        {
          "output_type": "stream",
          "name": "stdout",
          "text": [
            "{1, 2, 3}\n"
          ]
        }
      ]
    },
    {
      "cell_type": "code",
      "source": [
        "if 1 in s:\n",
        "  print(True)"
      ],
      "metadata": {
        "colab": {
          "base_uri": "https://localhost:8080/"
        },
        "id": "9Eb17jFHDVO3",
        "outputId": "161c9a7f-272e-4b04-d526-601f1015981b"
      },
      "execution_count": 6,
      "outputs": [
        {
          "output_type": "stream",
          "name": "stdout",
          "text": [
            "True\n"
          ]
        }
      ]
    },
    {
      "cell_type": "code",
      "source": [
        "s.remove(2)"
      ],
      "metadata": {
        "id": "Gd_wity_Db4G"
      },
      "execution_count": 7,
      "outputs": []
    },
    {
      "cell_type": "code",
      "source": [
        "str = \"sdhhhheevvvajjdbbbdds\"\n",
        "sett = set(str)\n",
        "print(sett)"
      ],
      "metadata": {
        "colab": {
          "base_uri": "https://localhost:8080/"
        },
        "id": "csayvC0uDqS6",
        "outputId": "7498e630-6f83-4a97-c834-32c375b19f32"
      },
      "execution_count": 8,
      "outputs": [
        {
          "output_type": "stream",
          "name": "stdout",
          "text": [
            "{'h', 'e', 'j', 's', 'd', 'v', 'b', 'a'}\n"
          ]
        }
      ]
    },
    {
      "cell_type": "code",
      "source": [
        "for x in s:\n",
        "  print(x)"
      ],
      "metadata": {
        "colab": {
          "base_uri": "https://localhost:8080/"
        },
        "id": "Ieh2XM1OD02D",
        "outputId": "bba0f4ca-bfcd-4e1d-de0e-f613ace94b2b"
      },
      "execution_count": 9,
      "outputs": [
        {
          "output_type": "stream",
          "name": "stdout",
          "text": [
            "1\n",
            "3\n"
          ]
        }
      ]
    },
    {
      "cell_type": "markdown",
      "source": [
        "hashmaps\n"
      ],
      "metadata": {
        "id": "wuyTUwqeD_J9"
      }
    },
    {
      "cell_type": "code",
      "source": [
        "d = {\"suyashi\":1,\"steve\":2,\"hannah\":3}"
      ],
      "metadata": {
        "id": "go95TCKMEALS"
      },
      "execution_count": 10,
      "outputs": []
    },
    {
      "cell_type": "code",
      "source": [
        "d[\"suyashi\"]"
      ],
      "metadata": {
        "colab": {
          "base_uri": "https://localhost:8080/"
        },
        "id": "hLVge_IuEPRa",
        "outputId": "626bfd89-4ed5-405e-d7c1-8845bbafa3f0"
      },
      "execution_count": 11,
      "outputs": [
        {
          "output_type": "execute_result",
          "data": {
            "text/plain": [
              "1"
            ]
          },
          "metadata": {},
          "execution_count": 11
        }
      ]
    },
    {
      "cell_type": "code",
      "source": [
        "if \"steve\" in d:\n",
        "  print(True)"
      ],
      "metadata": {
        "colab": {
          "base_uri": "https://localhost:8080/"
        },
        "id": "ku20Gv6VEVhk",
        "outputId": "bb3a2f6f-d337-438a-b163-63c06162023c"
      },
      "execution_count": 12,
      "outputs": [
        {
          "output_type": "stream",
          "name": "stdout",
          "text": [
            "True\n"
          ]
        }
      ]
    },
    {
      "cell_type": "code",
      "source": [
        "for key,val in d.items():\n",
        "  print(f\"key:{key},value:{val}\")\n"
      ],
      "metadata": {
        "colab": {
          "base_uri": "https://localhost:8080/"
        },
        "id": "ClQYkzlPEhoa",
        "outputId": "b4a90d09-d9a2-490a-bc9d-b422aebc62e9"
      },
      "execution_count": 13,
      "outputs": [
        {
          "output_type": "stream",
          "name": "stdout",
          "text": [
            "key:suyashi,value:1\n",
            "key:steve,value:2\n",
            "key:hannah,value:3\n"
          ]
        }
      ]
    },
    {
      "cell_type": "code",
      "source": [
        "# Default Dict\n",
        "from collections import defaultdict\n",
        "default = defaultdict(list)\n",
        "default[2]"
      ],
      "metadata": {
        "colab": {
          "base_uri": "https://localhost:8080/"
        },
        "id": "Tl3SWYN_FHQx",
        "outputId": "30ea7080-72a6-4626-9517-af2d07c44ad9"
      },
      "execution_count": 15,
      "outputs": [
        {
          "output_type": "execute_result",
          "data": {
            "text/plain": [
              "[]"
            ]
          },
          "metadata": {},
          "execution_count": 15
        }
      ]
    },
    {
      "cell_type": "markdown",
      "source": [
        "\n",
        "In Python, a default dictionary is provided by the collections module as defaultdict. It is a subclass of the built-in dict, but with a default value for missing keys, avoiding KeyError"
      ],
      "metadata": {
        "id": "lsyrwDhpGSki"
      }
    },
    {
      "cell_type": "code",
      "source": [
        "default"
      ],
      "metadata": {
        "colab": {
          "base_uri": "https://localhost:8080/"
        },
        "id": "mqEgZ_LMFfTj",
        "outputId": "493621cc-6470-4dfd-e610-e4a8c988e6c4"
      },
      "execution_count": 16,
      "outputs": [
        {
          "output_type": "execute_result",
          "data": {
            "text/plain": [
              "defaultdict(list, {2: []})"
            ]
          },
          "metadata": {},
          "execution_count": 16
        }
      ]
    },
    {
      "cell_type": "code",
      "source": [
        "# Counter\n",
        "from collections import Counter\n",
        "counter = Counter(str)\n",
        "print(counter)\n"
      ],
      "metadata": {
        "colab": {
          "base_uri": "https://localhost:8080/"
        },
        "id": "7fXM-w-YFw8M",
        "outputId": "b8df44fe-a82a-470f-d038-cc122c7e15df"
      },
      "execution_count": 17,
      "outputs": [
        {
          "output_type": "stream",
          "name": "stdout",
          "text": [
            "Counter({'d': 4, 'h': 4, 'v': 3, 'b': 3, 's': 2, 'e': 2, 'j': 2, 'a': 1})\n"
          ]
        }
      ]
    },
    {
      "cell_type": "markdown",
      "source": [],
      "metadata": {
        "id": "BwumLElZGRY_"
      }
    }
  ]
}